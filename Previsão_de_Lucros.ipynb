{
  "nbformat": 4,
  "nbformat_minor": 0,
  "metadata": {
    "colab": {
      "provenance": [],
      "authorship_tag": "ABX9TyMxn7EXcopJAajUt8r/VKAw",
      "include_colab_link": true
    },
    "kernelspec": {
      "name": "python3",
      "display_name": "Python 3"
    },
    "language_info": {
      "name": "python"
    }
  },
  "cells": [
    {
      "cell_type": "markdown",
      "metadata": {
        "id": "view-in-github",
        "colab_type": "text"
      },
      "source": [
        "<a href=\"https://colab.research.google.com/github/DuarteVn/profit_prediction/blob/main/Previs%C3%A3o_de_Lucros.ipynb\" target=\"_parent\"><img src=\"https://colab.research.google.com/assets/colab-badge.svg\" alt=\"Open In Colab\"/></a>"
      ]
    },
    {
      "cell_type": "markdown",
      "source": [
        "# Definição do problema\n",
        "\n"
      ],
      "metadata": {
        "id": "ZtgGRjIZtK2K"
      }
    },
    {
      "cell_type": "markdown",
      "source": [
        "* Base de dados\n",
        "  * Input (X): Temperatura\n",
        "  * Output(Y): Lucro diário em dólares\n",
        "  \n",
        "\n"
      ],
      "metadata": {
        "id": "98iulxkqtRCG"
      }
    },
    {
      "cell_type": "markdown",
      "source": [
        "# Etapa 1: Importação de Bibliotecas"
      ],
      "metadata": {
        "id": "1kqnFQrttiTE"
      }
    },
    {
      "cell_type": "code",
      "source": [
        "# %tensorflow_version 2.x\n",
        "import tensorflow as tf\n",
        "import numpy as np\n",
        "import pandas as pd\n",
        "import matplotlib.pyplot as plt\n",
        "import seaborn as sns\n",
        "tf.__version__"
      ],
      "metadata": {
        "colab": {
          "base_uri": "https://localhost:8080/",
          "height": 35
        },
        "id": "gQmoEcUNtm1s",
        "outputId": "fff8f610-41ca-41af-c287-655cbfe40465"
      },
      "execution_count": 2,
      "outputs": [
        {
          "output_type": "execute_result",
          "data": {
            "text/plain": [
              "'2.18.0'"
            ],
            "application/vnd.google.colaboratory.intrinsic+json": {
              "type": "string"
            }
          },
          "metadata": {},
          "execution_count": 2
        }
      ]
    },
    {
      "cell_type": "markdown",
      "source": [
        "# Etapa 2: Importação da Base de dados"
      ],
      "metadata": {
        "id": "ENs0ZdV2udiJ"
      }
    }
  ]
}